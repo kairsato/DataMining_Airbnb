{
 "cells": [
  {
   "cell_type": "markdown",
   "metadata": {},
   "source": [
    "# 3804ICT Data Mining\n",
    "## Assignment 1: Preliminary Data Investigation Report\n",
    "#### Author: Kai Sato --- Wui Theam Wong -- Ken Quach"
   ]
  },
  {
   "cell_type": "markdown",
   "metadata": {},
   "source": [
    "## I. Data Exploration"
   ]
  },
  {
   "cell_type": "code",
   "execution_count": null,
   "metadata": {},
   "outputs": [],
   "source": [
    "import pandas as pd \n",
    "import numpy as np\n",
    "\n",
    "df = pd.read_csv(\"combined_listings2.csv\")"
   ]
  },
  {
   "cell_type": "markdown",
   "metadata": {},
   "source": [
    "### Five number summary"
   ]
  },
  {
   "cell_type": "code",
   "execution_count": null,
   "metadata": {},
   "outputs": [],
   "source": [
    "# Helper function to clean the price\n",
    "import re\n",
    "def clean_price(raw):\n",
    "    clean_text = raw\n",
    "    clean_text = re.sub(\"[^0123456789\\.]\",\"\",clean_text)\n",
    "    return clean_text\n",
    "\n",
    "# df['price'] = pd.to_numeric(df['price'].apply(clean_price))\n",
    "# df['price'].head(5)"
   ]
  },
  {
   "cell_type": "code",
   "execution_count": null,
   "metadata": {
    "scrolled": false
   },
   "outputs": [],
   "source": [
    "# Five number summary\n",
    "import matplotlib.pyplot as plt\n",
    "col = 'reviews_per_month'\n",
    "example = df[col].head()\n",
    "mean = np.mean(example)\n",
    "print(\"Min: \", df[col].min())\n",
    "print(\"Q1 : \", np.percentile(example, 25, interpolation = 'lower'))\n",
    "print(\"Q2 : \", np.percentile(example, 50, interpolation = 'lower'))\n",
    "print(\"Q3 : \", np.percentile(example, 75, interpolation = 'lower'))\n",
    "print(\"Max: \", max(df[col]))\n",
    "plt.boxplot(example)\n",
    "plt.title(r'boxplot')\n",
    "plt.show()"
   ]
  },
  {
   "cell_type": "markdown",
   "metadata": {},
   "source": [
    "### Number of listings from Sydney and Melbourne\n"
   ]
  },
  {
   "cell_type": "code",
   "execution_count": null,
   "metadata": {
    "scrolled": false
   },
   "outputs": [],
   "source": [
    "df['location'].value_counts()"
   ]
  },
  {
   "cell_type": "markdown",
   "metadata": {},
   "source": [
    "### Types of rental properties\n"
   ]
  },
  {
   "cell_type": "code",
   "execution_count": null,
   "metadata": {
    "scrolled": true
   },
   "outputs": [],
   "source": [
    "df['property_type'].value_counts()"
   ]
  },
  {
   "cell_type": "markdown",
   "metadata": {},
   "source": [
    "### Number of hosts that have verification on Airbnb\n"
   ]
  },
  {
   "cell_type": "code",
   "execution_count": null,
   "metadata": {
    "scrolled": false
   },
   "outputs": [],
   "source": [
    "df['host_identity_verified'].value_counts()"
   ]
  },
  {
   "cell_type": "markdown",
   "metadata": {},
   "source": [
    "### The first review of all listings\n"
   ]
  },
  {
   "cell_type": "code",
   "execution_count": null,
   "metadata": {},
   "outputs": [],
   "source": [
    "# convert from str to datetime\n",
    "date = pd.to_datetime(df['first_review'])\n",
    "print(\"The first review of all listings: \", date.min())"
   ]
  },
  {
   "cell_type": "code",
   "execution_count": null,
   "metadata": {},
   "outputs": [],
   "source": [
    "df['host_since'].value_counts()"
   ]
  },
  {
   "cell_type": "markdown",
   "metadata": {},
   "source": [
    "## II. Visualisation"
   ]
  },
  {
   "cell_type": "code",
   "execution_count": null,
   "metadata": {
    "scrolled": false
   },
   "outputs": [],
   "source": [
    "\n",
    "import matplotlib.pyplot as plt\n",
    "import numpy as np\n",
    "\n",
    "temp = df[['bedrooms']].copy()\n",
    "\n",
    "temp = temp.dropna(subset=['bedrooms'])\n",
    "\n",
    "temp['bedrooms'] = temp['bedrooms'].astype('int32')\n",
    "\n",
    "print(temp.value_counts().head(19).sort_index())\n",
    "\n",
    "temp.plot.hist(bins=100, bottom=0.001,title='Bedroom Frequency')\n",
    "\n",
    "plt.show()"
   ]
  },
  {
   "cell_type": "code",
   "execution_count": null,
   "metadata": {},
   "outputs": [],
   "source": [
    "temp = df[['price']].copy()\n",
    "\n",
    "\n",
    "temp = temp.dropna(subset=['price'])\n",
    "temp['price'] = temp['price'].replace('[\\$,]', '', regex=True).astype(float)\n",
    "\n",
    "print(temp.value_counts().sort_index(ascending=False))\n",
    "\n",
    "temp.plot.hist(bins=100, bottom=0.01,title='price Frequency')\n",
    "\n",
    "plt.show()\n",
    "\n",
    "temp.plot.hist(bins=100, bottom=0.01,title='price Frequency with range',range=(0,1000))\n",
    "\n",
    "plt.show()"
   ]
  },
  {
   "cell_type": "code",
   "execution_count": null,
   "metadata": {},
   "outputs": [],
   "source": [
    "#Location\n",
    "temp2 = df[['latitude','longitude','location']].copy()\n",
    "temp2['latitude'] = temp2['latitude'].astype(float)\n",
    "temp2['longitude'] = temp2['longitude'].astype(float)\n",
    "\n",
    "print(temp2.head(10))\n",
    "\n",
    "temp2[temp2['location'] == 'sydney'].plot.scatter(x = 'latitude', y ='longitude',title= \"Sydney\")\n",
    "temp2[temp2['location'] =='melbourne'].plot.scatter(x = 'latitude', y ='longitude',title= \"Melbourne\" )\n",
    "plt.show()"
   ]
  },
  {
   "cell_type": "code",
   "execution_count": null,
   "metadata": {},
   "outputs": [],
   "source": [
    "temp = df[['amenities']].copy()\n",
    "\n",
    "temp.value_counts()\n",
    "\n",
    "array = []\n",
    "\n",
    "amenities_total = {}\n",
    "flag = False;\n",
    "#go through all records\n",
    "for listing in temp['amenities']:\n",
    "    #go through all amenities in single listing\n",
    "    listing = listing.split(\",\")\n",
    "    for amenities in listing:\n",
    "        #check for dups\n",
    "        flag = False\n",
    "        \n",
    "        for amenitieslist in amenities_total:            \n",
    "            if len(amenities.split('\"')) > 1:\n",
    "                if amenitieslist == amenities.split('\"')[1]:\n",
    "                    flag = True\n",
    "        if len(amenities.split('\"')) > 1:\n",
    "            #if we found our amenities in the list than update total or add an item with count to 1\n",
    "            \n",
    "            if flag:                \n",
    "                array.append(amenities.split('\"')[1])\n",
    "                amenities_total[amenities.split('\"')[1]]= int(amenities_total[amenities.split('\"')[1]]) + 1\n",
    "            else:\n",
    "                array.append(amenities.split('\"')[1])\n",
    "                amenities_total[amenities.split('\"')[1]] = 1\n",
    "            \n"
   ]
  },
  {
   "cell_type": "code",
   "execution_count": null,
   "metadata": {},
   "outputs": [],
   "source": [
    "#\n",
    "\n",
    "total = pd.Series(data=array)\n",
    "total.value_counts().sort_values(ascending=False).head(15).plot(kind='pie',autopct='%1.1f%%')\n",
    "plt.ylabel(\"\")\n",
    "plt.show()\n",
    "print(\"total unique Amenities: \"+str(len(amenities_total)))\n",
    "print(\"-------\")\n",
    "print(\"Least used Amenities\")\n",
    "print(total.value_counts().sort_values(ascending=True).head(5))"
   ]
  },
  {
   "cell_type": "code",
   "execution_count": null,
   "metadata": {},
   "outputs": [],
   "source": [
    "#avability\n",
    "temp = df[['review_scores_rating']].copy()\n",
    "\n",
    "temp.plot.hist(bins=100, bottom=0.01,title='Reviews')\n",
    "plt.show()"
   ]
  },
  {
   "cell_type": "markdown",
   "metadata": {},
   "source": [
    "## III. Data pre-processing\n"
   ]
  },
  {
   "cell_type": "code",
   "execution_count": null,
   "metadata": {},
   "outputs": [],
   "source": [
    "# Read in data as a pandas dataframe\n",
    "import pandas as pd\n",
    "df = pd.read_csv(\"combined_listings2.csv\")\n",
    "t = df[['id','name','description','neighborhood_overview','host_location','host_total_listings_count','host_identity_verified','neighbourhood_cleansed','latitude','longitude','property_type','room_type','accommodates','bathrooms_text','bedrooms','beds','amenities','price','minimum_nights','maximum_nights','availability_30','availability_60','availability_90'\n",
    ",'availability_365','number_of_reviews','number_of_reviews_ltm','number_of_reviews_l30d','first_review','last_review','review_scores_rating','review_scores_accuracy','review_scores_cleanliness','review_scores_checkin','review_scores_communication','review_scores_location'\n",
    ",'review_scores_value','instant_bookable','calculated_host_listings_count','calculated_host_listings_count_entire_homes','calculated_host_listings_count_private_rooms','calculated_host_listings_count_shared_rooms','reviews_per_month','location']].copy()\n",
    "df = t\n",
    "df.dtypes"
   ]
  },
  {
   "cell_type": "code",
   "execution_count": null,
   "metadata": {},
   "outputs": [],
   "source": [
    "# Handle missing data\n",
    "# Find which attributes have any missing data\n",
    "df.isna().any()"
   ]
  },
  {
   "cell_type": "code",
   "execution_count": null,
   "metadata": {},
   "outputs": [],
   "source": [
    "# Show Amount of rows the data now has\n",
    "df.shape"
   ]
  },
  {
   "cell_type": "code",
   "execution_count": null,
   "metadata": {},
   "outputs": [],
   "source": [
    "# Drop any duplicates in the data - if any exist\n",
    "df = df.drop_duplicates()\n",
    "\n",
    "# Show starting number of rows the dataset contains\n",
    "df.shape"
   ]
  },
  {
   "cell_type": "code",
   "execution_count": null,
   "metadata": {},
   "outputs": [],
   "source": [
    "# Remove missing/incomplete data based on attributes where they should be removed.\n",
    "# To ensure proper data cleaning the attributes: bathrooms_text, bedrooms, beds, \n",
    "# review_scores_rating, review_scores_accuracy, review_scores_cleanliness, first_review, last_review\n",
    "# review_scores_checkin, review_scores_communication, review_scores_location, review_scores_value, and reviews_per_month.\n",
    "# will have the any entries with NaN for these attributes removed.\n",
    "# Without the values of the attribute the data is not usable for the algorithm and can negatively affect the results.\n",
    "df = df.dropna(subset=['bathrooms_text','bedrooms','beds',\n",
    "                       'review_scores_rating','review_scores_accuracy','review_scores_cleanliness',\n",
    "                       'review_scores_checkin','review_scores_communication','review_scores_location',\n",
    "                       'review_scores_value','reviews_per_month','first_review','last_review'])\n",
    "\n",
    "\n",
    "# Format price to remove the dollar sign and commas\n",
    "df['price'] = df['price'].str.replace(',','')\n",
    "df['price'] = df['price'].str.replace('$','',regex=False)\n",
    "df['price'] = df['price'].str.replace(' ', '')\n",
    "\n",
    "df.shape\n",
    "# As shown by the output some missing/incomplete data was removed \n",
    "# to prevent these from negatively affecting the algorithm's results"
   ]
  },
  {
   "cell_type": "code",
   "execution_count": null,
   "metadata": {},
   "outputs": [],
   "source": [
    "# Check all the variables being cleaned to see if there are no empty attributes data entries\n",
    "# these are different from NaN as the cell is completely empty -> If true these will be removed\n",
    "print(\"Bathrooms:\", df['bathrooms_text'].empty)\n",
    "print(\"Bedrooms:\", df['bedrooms'].empty)\n",
    "print(\"Beds:\", df['beds'].empty)\n",
    "print(\"Rating:\", df['review_scores_rating'].empty)\n",
    "print(\"Accuracy:\", df['review_scores_accuracy'].empty)\n",
    "print(\"Cleanliness:\", df['review_scores_cleanliness'].empty)\n",
    "print(\"Checkin:\", df['review_scores_checkin'].empty)\n",
    "print(\"Communication:\", df['review_scores_communication'].empty)\n",
    "print(\"Location:\", df['review_scores_location'].empty)\n",
    "print(\"Value:\", df['review_scores_value'].empty)\n",
    "print(\"Reviews per month:\", df['reviews_per_month'].empty)\n",
    "print(\"First Reviews:\", df['first_review'].empty)\n",
    "print(\"Last Reviews:\", df['last_review'].empty)"
   ]
  },
  {
   "cell_type": "code",
   "execution_count": null,
   "metadata": {},
   "outputs": [],
   "source": [
    "# Examine all the attributes for invalid data\n",
    "# Check if Id is a valid number (greater than 0)\n",
    "df = df[df['id'] >= 1]\n",
    "# Total listing should be greater than or equal to 1\n",
    "df = df[df['host_total_listings_count'] >= 1]\n",
    "# Check the integer values related to the property - should be at least 1\n",
    "df = df[df['bedrooms'] >= 1]\n",
    "df = df[df['beds'] >= 1]\n",
    "\n",
    "# Convert price from object to float\n",
    "df = df.astype({'price': 'float64'})\n",
    "# Check and remove negative numbered property listings\n",
    "df = df[df['price'] >= 0]\n",
    "\n",
    "# Minimum and Maximum nights must be at least 1\n",
    "df = df[df['minimum_nights'] >= 1]\n",
    "df = df[df['maximum_nights'] >= 1]\n",
    "\n",
    "# Avaliability must be greater than or equal to 0 \n",
    "df = df[df['availability_30'] >= 0]\n",
    "df = df[df['availability_60'] >= 0]\n",
    "df = df[df['availability_90'] >= 0]\n",
    "df = df[df['availability_365'] >= 0]\n",
    "\n",
    "# must also be no more than the number of days of their category \n",
    "# (avaliability_30 must not exceed 30 days)\n",
    "df = df[df['availability_30'] <= 30]\n",
    "df = df[df['availability_60'] <= 60]\n",
    "df = df[df['availability_90'] <= 90]\n",
    "df = df[df['availability_365'] <= 365]\n",
    "\n",
    "# Number of reviews - should be greater than or equal to 0\n",
    "df = df[df['number_of_reviews'] >= 0]\n",
    "df = df[df['number_of_reviews_ltm'] >= 0]\n",
    "df = df[df['number_of_reviews_l30d'] >= 0]\n",
    "\n",
    "# Review scores - Check for incorrect values across all aspects\n",
    "df = df[df['review_scores_rating'] >= 0]\n",
    "df = df[df['review_scores_rating'] <= 100]\n",
    "\n",
    "df = df[df['review_scores_accuracy'] >= 0]\n",
    "df = df[df['review_scores_accuracy'] <= 10]\n",
    "\n",
    "df = df[df['review_scores_cleanliness'] >= 0]\n",
    "df = df[df['review_scores_cleanliness'] <= 10]\n",
    "\n",
    "df = df[df['review_scores_checkin'] >= 0]\n",
    "df = df[df['review_scores_checkin'] <= 10]\n",
    "\n",
    "df = df[df['review_scores_communication'] >= 0]\n",
    "df = df[df['review_scores_communication'] <= 10]\n",
    "\n",
    "df = df[df['review_scores_location'] >= 0]\n",
    "df = df[df['review_scores_location'] <= 10]\n",
    "\n",
    "df = df[df['review_scores_value'] >= 0]\n",
    "df = df[df['review_scores_value'] <= 10]\n",
    "\n",
    "# Calculated host listings - check for invalid entries\n",
    "df = df[df['calculated_host_listings_count'] >= 0]\n",
    "\n",
    "df = df[df['calculated_host_listings_count_entire_homes'] >= 0]\n",
    "\n",
    "df = df[df['calculated_host_listings_count_private_rooms'] >= 0]\n",
    "\n",
    "df = df[df['calculated_host_listings_count_shared_rooms'] >= 0]\n",
    "\n",
    "df = df[df['reviews_per_month'] >= 0]\n",
    "\n",
    "# Print final amount of rows\n",
    "df.shape"
   ]
  },
  {
   "cell_type": "code",
   "execution_count": null,
   "metadata": {},
   "outputs": [],
   "source": [
    "# Noisy Data\n",
    "# From the attributes selected to be used in the algorithm - look for outliers\n",
    "# Create boxplot to find minimum and maximum of the varaibles where outliers are most likely to exist\n",
    "# this will determine if there are any outliers in the data\n",
    "boxplot = df.boxplot(column=['minimum_nights', 'maximum_nights', 'number_of_reviews', 'bedrooms', 'beds'])"
   ]
  },
  {
   "cell_type": "code",
   "execution_count": null,
   "metadata": {},
   "outputs": [],
   "source": [
    "# From the five selected variables - use Z score to determine the outliers\n",
    "# Create a list of all the variables\n",
    "columns = list(df.columns)\n",
    "# Remove all the attributes not being used (except for the five selected above)\n",
    "columns.remove('id')\n",
    "columns.remove('name')\n",
    "columns.remove('description')\n",
    "columns.remove('neighborhood_overview')\n",
    "columns.remove('host_location')\n",
    "columns.remove('host_total_listings_count')\n",
    "columns.remove('host_identity_verified')\n",
    "columns.remove('neighbourhood_cleansed')\n",
    "columns.remove('latitude')\n",
    "columns.remove('longitude')\n",
    "columns.remove('property_type')\n",
    "columns.remove('room_type')\n",
    "columns.remove('accommodates')\n",
    "columns.remove('bathrooms_text')\n",
    "columns.remove('amenities')\n",
    "columns.remove('price')\n",
    "columns.remove('availability_30')\n",
    "columns.remove('availability_60')\n",
    "columns.remove('availability_90')\n",
    "columns.remove('availability_365')\n",
    "columns.remove('number_of_reviews_ltm')\n",
    "columns.remove('number_of_reviews_l30d')\n",
    "columns.remove('first_review')\n",
    "columns.remove('last_review')\n",
    "columns.remove('review_scores_rating')\n",
    "columns.remove('review_scores_accuracy')\n",
    "columns.remove('review_scores_cleanliness')\n",
    "columns.remove('review_scores_checkin')\n",
    "columns.remove('review_scores_communication')\n",
    "columns.remove('review_scores_location')\n",
    "columns.remove('review_scores_value')\n",
    "columns.remove('instant_bookable')\n",
    "columns.remove('calculated_host_listings_count')\n",
    "columns.remove('calculated_host_listings_count_entire_homes')\n",
    "columns.remove('calculated_host_listings_count_private_rooms')\n",
    "columns.remove('calculated_host_listings_count_shared_rooms')\n",
    "columns.remove('reviews_per_month')\n",
    "columns.remove('location')\n",
    "\n",
    "var = 0 # Counts the number of Z score columns created to prevent duplicate columns from being created (if code is run again)\n",
    "\n",
    "df.shape\n"
   ]
  },
  {
   "cell_type": "code",
   "execution_count": null,
   "metadata": {},
   "outputs": [],
   "source": [
    "# Calculate Z Score for each varaible and column creating a new column for each one\n",
    "for column in columns:\n",
    "    column_z_score = column + '_z_score'\n",
    "    if var < 5: # If the five Z score columns haven't been made yet create them\n",
    "        df[column_z_score] = (df[column] - df[column].mean())/df[column].std(ddof=0)\n",
    "        var = var + 1\n",
    "    \n",
    "# Remove any rows of data in which the z score for any of them is three standard deviations away\n",
    "# this is to only remove extreme outliers in the data (as seen with maximum number of nights)\n",
    "\n",
    "df = df.loc[df['bedrooms_z_score'].abs() <= 3]\n",
    "\n",
    "df = df.loc[df['beds_z_score'].abs() <= 3]\n",
    "\n",
    "df = df.loc[df['minimum_nights_z_score'].abs() <= 3]\n",
    "\n",
    "df = df.loc[df['maximum_nights_z_score'].abs() <= 3]\n",
    "\n",
    "df = df.loc[df['number_of_reviews_z_score'].abs() <= 3]\n",
    "\n",
    "\n",
    "df.shape"
   ]
  },
  {
   "cell_type": "code",
   "execution_count": null,
   "metadata": {},
   "outputs": [],
   "source": [
    "# Boxplot showing the data with extreme outliers removed\n",
    "boxplot = df.boxplot(column=['minimum_nights','maximum_nights', 'number_of_reviews', 'bedrooms', 'beds'])"
   ]
  },
  {
   "cell_type": "code",
   "execution_count": null,
   "metadata": {},
   "outputs": [],
   "source": [
    "# Sanity Check -> ensure that one attribute links correctly with another (in the correct format)\n",
    "# Convert first_review and last review to proper date/time format\n",
    "df['first_review'] = pd.to_datetime(df['first_review'], format='%d/%m/%y')\n",
    "df['last_review'] = pd.to_datetime(df['last_review'], format='%d/%m/%y')\n",
    "\n",
    "# Perform sanity check - ensure that last_review is a date that is later than first_review\n",
    "df = df.loc[df['first_review'] < df['last_review']]\n",
    "df.shape"
   ]
  },
  {
   "cell_type": "code",
   "execution_count": null,
   "metadata": {},
   "outputs": [],
   "source": [
    "id                                                int64\n",
    "name                                             object\n",
    "description                                      object\n",
    "neighborhood_overview                            object\n",
    "host_location                                    object\n",
    "host_total_listings_count                       float64\n",
    "host_identity_verified                           object\n",
    "neighbourhood_cleansed                           object\n",
    "latitude                                        float64\n",
    "longitude                                       float64\n",
    "property_type                                    object\n",
    "room_type                                        object\n",
    "accommodates                                      int64\n",
    "bathrooms_text                                   object\n",
    "bedrooms                                        float64 Outlier 4\n",
    "beds                                            float64 Outlier 5\n",
    "amenities                                        object\n",
    "price                                            object\n",
    "minimum_nights                                    int64 Outlier 1\n",
    "maximum_nights                                    int64 Outlier 2\n",
    "availability_30                                   int64\n",
    "availability_60                                   int64\n",
    "availability_90                                   int64\n",
    "availability_365                                  int64\n",
    "number_of_reviews                                 int64 Outlier 3\n",
    "number_of_reviews_ltm                             int64 \n",
    "number_of_reviews_l30d                            int64\n",
    "first_review                                     object Sanity Check 1 \\/\n",
    "last_review                                      object Sanity Check 1 /\\\n",
    "review_scores_rating                            float64\n",
    "review_scores_accuracy                          float64\n",
    "review_scores_cleanliness                       float64\n",
    "review_scores_checkin                           float64\n",
    "review_scores_communication                     float64\n",
    "review_scores_location                          float64\n",
    "review_scores_value                             float64\n",
    "instant_bookable                                 object\n",
    "calculated_host_listings_count                    int64\n",
    "calculated_host_listings_count_entire_homes       int64\n",
    "calculated_host_listings_count_private_rooms      int64\n",
    "calculated_host_listings_count_shared_rooms       int64\n",
    "reviews_per_month                               float64\n",
    "location                                         object"
   ]
  }
 ],
 "metadata": {
  "kernelspec": {
   "display_name": "Python 3",
   "language": "python",
   "name": "python3"
  },
  "language_info": {
   "codemirror_mode": {
    "name": "ipython",
    "version": 3
   },
   "file_extension": ".py",
   "mimetype": "text/x-python",
   "name": "python",
   "nbconvert_exporter": "python",
   "pygments_lexer": "ipython3",
   "version": "3.8.8"
  }
 },
 "nbformat": 4,
 "nbformat_minor": 4
}
