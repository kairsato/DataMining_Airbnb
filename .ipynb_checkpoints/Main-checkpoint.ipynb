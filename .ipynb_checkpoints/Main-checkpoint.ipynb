{
 "cells": [
  {
   "cell_type": "markdown",
   "metadata": {},
   "source": [
    "# Data Exploration"
   ]
  },
  {
   "cell_type": "code",
   "execution_count": 100,
   "metadata": {},
   "outputs": [],
   "source": [
    "import pandas as pd \n",
    "import numpy as np\n",
    "\n",
    "df = pd.read_csv(\"combined_listings2.csv\")"
   ]
  },
  {
   "cell_type": "markdown",
   "metadata": {},
   "source": [
    "### Five number summary"
   ]
  },
  {
   "cell_type": "code",
   "execution_count": 135,
   "metadata": {},
   "outputs": [],
   "source": [
    "# Helper function to clean the price\n",
    "import re\n",
    "def clean_price(raw):\n",
    "    clean_text = raw\n",
    "    clean_text = re.sub(\"[^0123456789\\.]\",\"\",clean_text)\n",
    "    return clean_text\n",
    "\n",
    "# df['price'] = pd.to_numeric(df['price'].apply(clean_price))\n",
    "# df['price'].head(5)"
   ]
  },
  {
   "cell_type": "code",
   "execution_count": 154,
   "metadata": {
    "scrolled": false
   },
   "outputs": [
    {
     "name": "stdout",
     "output_type": "stream",
     "text": [
      "Min:  0.01\n",
      "Q1 :  0.34\n",
      "Q2 :  1.26\n",
      "Q3 :  1.42\n",
      "Max:  35.45\n"
     ]
    },
    {
     "data": {
      "image/png": "[encoded data removed]",
      "text/plain": [
       "<Figure size 432x288 with 1 Axes>"
      ]
     },
     "metadata": {
      "needs_background": "light"
     },
     "output_type": "display_data"
    }
   ],
   "source": [
    "# Five number summary\n",
    "import matplotlib.pyplot as plt\n",
    "col = 'reviews_per_month'\n",
    "example = df[col].head()\n",
    "mean = np.mean(example)\n",
    "print(\"Min: \", df[col].min())\n",
    "print(\"Q1 : \", np.percentile(example, 25, interpolation = 'lower'))\n",
    "print(\"Q2 : \", np.percentile(example, 50, interpolation = 'lower'))\n",
    "print(\"Q3 : \", np.percentile(example, 75, interpolation = 'lower'))\n",
    "print(\"Max: \", max(df[col]))\n",
    "plt.boxplot(example)\n",
    "plt.title(r'boxplot')\n",
    "plt.show()"
   ]
  },
  {
   "cell_type": "markdown",
   "metadata": {},
   "source": [
    "### Number of listings from Sydney and Melbourne\n"
   ]
  },
  {
   "cell_type": "code",
   "execution_count": 138,
   "metadata": {
    "scrolled": false
   },
   "outputs": [
    {
     "data": {
      "text/plain": [
       "sydney       31391\n",
       "melbourne    20420\n",
       "Name: location, dtype: int64"
      ]
     },
     "execution_count": 138,
     "metadata": {},
     "output_type": "execute_result"
    }
   ],
   "source": [
    "df['location'].value_counts()"
   ]
  },
  {
   "cell_type": "markdown",
   "metadata": {},
   "source": [
    "### Types of rental properties\n"
   ]
  },
  {
   "cell_type": "code",
   "execution_count": 141,
   "metadata": {
    "scrolled": true
   },
   "outputs": [
    {
     "data": {
      "text/plain": [
       "Entire apartment             19869\n",
       "Private room in apartment     8254\n",
       "Private room in house         7007\n",
       "Entire house                  6633\n",
       "Private room in townhouse     1334\n",
       "                             ...  \n",
       "Campsite                         1\n",
       "Private room in hut              1\n",
       "Train                            1\n",
       "Bus                              1\n",
       "Private room in yurt             1\n",
       "Name: property_type, Length: 100, dtype: int64"
      ]
     },
     "execution_count": 141,
     "metadata": {},
     "output_type": "execute_result"
    }
   ],
   "source": [
    "df['property_type'].value_counts()"
   ]
  },
  {
   "cell_type": "markdown",
   "metadata": {},
   "source": [
    "### Number of hosts that have verification on Airbnb\n"
   ]
  },
  {
   "cell_type": "code",
   "execution_count": 142,
   "metadata": {
    "scrolled": false
   },
   "outputs": [
    {
     "data": {
      "text/plain": [
       "t    38702\n",
       "f    13093\n",
       "Name: host_identity_verified, dtype: int64"
      ]
     },
     "execution_count": 142,
     "metadata": {},
     "output_type": "execute_result"
    }
   ],
   "source": [
    "df['host_identity_verified'].value_counts()"
   ]
  },
  {
   "cell_type": "markdown",
   "metadata": {},
   "source": [
    "### The first review of all listings\n"
   ]
  },
  {
   "cell_type": "code",
   "execution_count": 152,
   "metadata": {},
   "outputs": [
    {
     "name": "stdout",
     "output_type": "stream",
     "text": [
      "The first review of all listings:  2009-05-12 00:00:00\n"
     ]
    }
   ],
   "source": [
    "# convert from str to datetime\n",
    "date = pd.to_datetime(df['first_review'])\n",
    "print(\"The first review of all listings: \", date.min())"
   ]
  },
  {
   "cell_type": "code",
   "execution_count": 156,
   "metadata": {},
   "outputs": [
    {
     "data": {
      "text/plain": [
       "8/1/19     160\n",
       "13/5/14    152\n",
       "10/7/13    145\n",
       "19/8/16    136\n",
       "22/6/15    121\n",
       "          ... \n",
       "25/8/10      1\n",
       "23/3/12      1\n",
       "22/4/10      1\n",
       "20/2/10      1\n",
       "5/12/10      1\n",
       "Name: host_since, Length: 3588, dtype: int64"
      ]
     },
     "execution_count": 156,
     "metadata": {},
     "output_type": "execute_result"
    }
   ],
   "source": [
    "df['host_since'].value_counts()"
   ]
  },
  {
   "cell_type": "markdown",
   "metadata": {},
   "source": [
    "# Visualisation"
   ]
  },
  {
   "cell_type": "code",
   "execution_count": 76,
   "metadata": {},
   "outputs": [
    {
     "name": "stdout",
     "output_type": "stream",
     "text": [
      "        price\n",
      "0        65.0\n",
      "1     14315.0\n",
      "2       470.0\n",
      "3        79.0\n",
      "4       100.0\n",
      "...       ...\n",
      "9994     65.0\n",
      "9995    190.0\n",
      "9996     65.0\n",
      "9997    129.0\n",
      "9998    250.0\n",
      "\n",
      "[9999 rows x 1 columns]\n",
      "price\n",
      "50.0     209\n",
      "60.0     200\n",
      "70.0     193\n",
      "75.0     174\n",
      "80.0     248\n",
      "85.0     156\n",
      "90.0     210\n",
      "95.0     136\n",
      "100.0    329\n",
      "110.0    157\n",
      "120.0    267\n",
      "150.0    287\n",
      "180.0    137\n",
      "200.0    233\n",
      "250.0    186\n",
      "300.0    148\n",
      "dtype: int64\n"
     ]
    },
    {
     "data": {
      "image/png": "[encoded data removed]",
      "text/plain": [
       "<Figure size 432x288 with 1 Axes>"
      ]
     },
     "metadata": {
      "needs_background": "light"
     },
     "output_type": "display_data"
    }
   ],
   "source": [
    "import numpy as np\n",
    "\n",
    "\n",
    "\n",
    "temp = df[['price']].copy()\n",
    "\n",
    "temp['price'] = temp['price'].replace('[\\$,]', '', regex=True).astype(float)\n",
    "\n",
    "print(temp)\n",
    "\n",
    "temp.plot.hist('price')\n",
    "\n",
    "print(temp.value_counts().head(16).sort_index())\n",
    "\n"
   ]
  },
  {
   "cell_type": "code",
   "execution_count": 102,
   "metadata": {},
   "outputs": [
    {
     "name": "stdout",
     "output_type": "stream",
     "text": [
      "   latitude  longitude location\n",
      "0 -33.86917  151.22656   Sydney\n",
      "1 -33.86515  151.19190   Sydney\n",
      "2 -33.80093  151.26172   Sydney\n",
      "3 -33.87964  151.21680   Sydney\n",
      "4 -33.81927  151.23652   Sydney\n",
      "5 -33.88890  151.27726   Sydney\n",
      "6 -33.88569  151.26886   Sydney\n",
      "7 -33.87248  151.22814   Sydney\n",
      "8 -33.88333  151.19524   Sydney\n",
      "9 -33.91500  151.14030   Sydney\n"
     ]
    },
    {
     "data": {
      "text/plain": [
       "<AxesSubplot:xlabel='latitude', ylabel='longitude'>"
      ]
     },
     "execution_count": 102,
     "metadata": {},
     "output_type": "execute_result"
    },
    {
     "data": {
      "image/png": "[encoded data removed]",
      "text/plain": [
       "<Figure size 432x288 with 1 Axes>"
      ]
     },
     "metadata": {
      "needs_background": "light"
     },
     "output_type": "display_data"
    },
    {
     "data": {
      "image/png": "[encoded data removed]",
      "text/plain": [
       "<Figure size 432x288 with 1 Axes>"
      ]
     },
     "metadata": {
      "needs_background": "light"
     },
     "output_type": "display_data"
    }
   ],
   "source": [
    "#Location\n",
    "temp2 = df[['latitude','longitude','location']].copy()\n",
    "temp2['latitude'] = temp2['latitude'].astype(float)\n",
    "temp2['longitude'] = temp2['longitude'].astype(float)\n",
    "\n",
    "print(temp2.head(10))\n",
    "\n",
    "temp2[temp2['location']=='Sydney'].plot.scatter(x = 'latitude', y ='longitude' )\n",
    "temp2[temp2['location']=='Melbourne'].plot.scatter(x = 'latitude', y ='longitude' )"
   ]
  },
  {
   "cell_type": "code",
   "execution_count": null,
   "metadata": {},
   "outputs": [],
   "source": []
  },
  {
   "cell_type": "markdown",
   "metadata": {},
   "source": [
    "# Data pre-processing\n"
   ]
  },
  {
   "cell_type": "code",
   "execution_count": null,
   "metadata": {},
   "outputs": [],
   "source": []
  }
 ],
 "metadata": {
  "kernelspec": {
   "display_name": "Python 3",
   "language": "python",
   "name": "python3"
  },
  "language_info": {
   "codemirror_mode": {
    "name": "ipython",
    "version": 3
   },
   "file_extension": ".py",
   "mimetype": "text/x-python",
   "name": "python",
   "nbconvert_exporter": "python",
   "pygments_lexer": "ipython3",
   "version": "3.8.8"
  }
 },
 "nbformat": 4,
 "nbformat_minor": 4
}
